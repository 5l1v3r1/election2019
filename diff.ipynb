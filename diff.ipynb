{
 "cells": [
  {
   "cell_type": "markdown",
   "metadata": {},
   "source": [
    "# Calculate and display differences between dataframes"
   ]
  },
  {
   "cell_type": "code",
   "execution_count": 26,
   "metadata": {},
   "outputs": [],
   "source": [
    "import pandas as pd\n",
    "import numpy as np"
   ]
  },
  {
   "cell_type": "code",
   "execution_count": 27,
   "metadata": {},
   "outputs": [],
   "source": [
    "prev = pd.read_pickle(\"output/1555491870_candidates.dat\")\n",
    "curr = pd.read_pickle(\"output/1555493836_candidates.dat\")"
   ]
  },
  {
   "cell_type": "code",
   "execution_count": 30,
   "metadata": {},
   "outputs": [],
   "source": [
    "def diff_pd(df1, df2):\n",
    "    \"\"\"\n",
    "    Identify differences between two pandas DataFrames\n",
    "    Derived and modified from: https://stackoverflow.com/a/38421614\n",
    "    \"\"\"\n",
    "    assert (df1.columns == df2.columns).all(), \\\n",
    "        \"DataFrame column names are different\"\n",
    "    if any(df1.dtypes != df2.dtypes):\n",
    "        \"Data Types are different, trying to convert\"\n",
    "        df2 = df2.astype(df1.dtypes)\n",
    "    if df1.equals(df2):\n",
    "        return None\n",
    "    else:\n",
    "        # need to account for np.nan != np.nan returning True\n",
    "        diff_mask = (df1 != df2) & ~(df1.isnull() & df2.isnull())\n",
    "        ne_stacked = diff_mask.stack()\n",
    "        changed = ne_stacked[ne_stacked]\n",
    "        changed.index.names = ['id', 'col']\n",
    "        difference_locations = np.where(diff_mask)\n",
    "        changed_from = df1.values[difference_locations]\n",
    "        changed_to = df2.values[difference_locations]\n",
    "        return pd.DataFrame({'from': changed_from, 'to': changed_to},\n",
    "                            index=changed.index)"
   ]
  },
  {
   "cell_type": "code",
   "execution_count": 31,
   "metadata": {},
   "outputs": [
    {
     "data": {
      "text/html": [
       "<div>\n",
       "<style scoped>\n",
       "    .dataframe tbody tr th:only-of-type {\n",
       "        vertical-align: middle;\n",
       "    }\n",
       "\n",
       "    .dataframe tbody tr th {\n",
       "        vertical-align: top;\n",
       "    }\n",
       "\n",
       "    .dataframe thead th {\n",
       "        text-align: right;\n",
       "    }\n",
       "</style>\n",
       "<table border=\"1\" class=\"dataframe\">\n",
       "  <thead>\n",
       "    <tr style=\"text-align: right;\">\n",
       "      <th></th>\n",
       "      <th></th>\n",
       "      <th>from</th>\n",
       "      <th>to</th>\n",
       "    </tr>\n",
       "    <tr>\n",
       "      <th>id</th>\n",
       "      <th>col</th>\n",
       "      <th></th>\n",
       "      <th></th>\n",
       "    </tr>\n",
       "  </thead>\n",
       "  <tbody>\n",
       "    <tr>\n",
       "      <th>Amanda-Sue Markham</th>\n",
       "      <th>facebook</th>\n",
       "      <td>307753713452428</td>\n",
       "      <td>10157009666402464</td>\n",
       "    </tr>\n",
       "    <tr>\n",
       "      <th>Hemant Dave</th>\n",
       "      <th>facebook</th>\n",
       "      <td>10157009400537464</td>\n",
       "      <td>10157009666402464</td>\n",
       "    </tr>\n",
       "    <tr>\n",
       "      <th>Robert Shearman</th>\n",
       "      <th>facebook</th>\n",
       "      <td>10157009400537464</td>\n",
       "      <td>10157009666402464</td>\n",
       "    </tr>\n",
       "  </tbody>\n",
       "</table>\n",
       "</div>"
      ],
      "text/plain": [
       "                                          from                 to\n",
       "id                 col                                           \n",
       "Amanda-Sue Markham facebook    307753713452428  10157009666402464\n",
       "Hemant Dave        facebook  10157009400537464  10157009666402464\n",
       "Robert Shearman    facebook  10157009400537464  10157009666402464"
      ]
     },
     "execution_count": 31,
     "metadata": {},
     "output_type": "execute_result"
    }
   ],
   "source": [
    "diff_pd(prev, curr)"
   ]
  },
  {
   "cell_type": "code",
   "execution_count": null,
   "metadata": {},
   "outputs": [],
   "source": []
  }
 ],
 "metadata": {
  "kernelspec": {
   "display_name": "Python 3",
   "language": "python",
   "name": "python3"
  },
  "language_info": {
   "codemirror_mode": {
    "name": "ipython",
    "version": 3
   },
   "file_extension": ".py",
   "mimetype": "text/x-python",
   "name": "python",
   "nbconvert_exporter": "python",
   "pygments_lexer": "ipython3",
   "version": "3.7.3"
  }
 },
 "nbformat": 4,
 "nbformat_minor": 2
}
